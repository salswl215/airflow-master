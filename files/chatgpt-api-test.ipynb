{
 "cells": [
  {
   "cell_type": "code",
   "execution_count": 5,
   "id": "initial_id",
   "metadata": {
    "collapsed": true,
    "ExecuteTime": {
     "end_time": "2025-05-15T13:12:05.874306Z",
     "start_time": "2025-05-15T13:12:05.870750Z"
    }
   },
   "outputs": [
    {
     "name": "stdout",
     "output_type": "stream",
     "text": [
      "{'model': 'gpt-3.5-turbo', 'messages': [{'role': 'user', 'content': 'Say this is a test!'}], 'temperature': 0.7}\n"
     ]
    }
   ],
   "source": [
    "url = 'https://api.openai.com/v1/chat/completions'\n",
    "secret_key = ''\n",
    "headers = {'Content-Type': 'application/json',\n",
    "           'Authorization': f'Bearer {secret_key}'}\n",
    "data = {\n",
    "    'model':'gpt-3.5-turbo',\n",
    "    'messages':[{'role':'user', 'content':'Say this is a test!'}],\n",
    "    'temperature':0.7\n",
    "}\n",
    "print(data)"
   ]
  },
  {
   "cell_type": "code",
   "outputs": [
    {
     "name": "stdout",
     "output_type": "stream",
     "text": [
      "{\n",
      "    \"error\": {\n",
      "        \"message\": \"You exceeded your current quota, please check your plan and billing details. For more information on this error, read the docs: https://platform.openai.com/docs/guides/error-codes/api-errors.\",\n",
      "        \"type\": \"insufficient_quota\",\n",
      "        \"param\": null,\n",
      "        \"code\": \"insufficient_quota\"\n",
      "    }\n",
      "}\n"
     ]
    }
   ],
   "source": [
    "import requests\n",
    "import json\n",
    "\n",
    "resp = requests.post(url= url, headers=headers, json = data)\n",
    "# resp_text = resp.text\n",
    "resp_dict = json.loads(resp.text)\n",
    "resp_text = resp_dict['choices'][0]['message']['content']\n",
    "print(resp_text)"
   ],
   "metadata": {
    "collapsed": false,
    "ExecuteTime": {
     "end_time": "2025-05-15T13:12:25.444037Z",
     "start_time": "2025-05-15T13:12:24.969336Z"
    }
   },
   "id": "66dae8b4fb523b6c",
   "execution_count": 7
  },
  {
   "cell_type": "code",
   "outputs": [],
   "source": [],
   "metadata": {
    "collapsed": false
   },
   "id": "21ba74c93c962d36"
  }
 ],
 "metadata": {
  "kernelspec": {
   "display_name": "Python 3",
   "language": "python",
   "name": "python3"
  },
  "language_info": {
   "codemirror_mode": {
    "name": "ipython",
    "version": 2
   },
   "file_extension": ".py",
   "mimetype": "text/x-python",
   "name": "python",
   "nbconvert_exporter": "python",
   "pygments_lexer": "ipython2",
   "version": "2.7.6"
  }
 },
 "nbformat": 4,
 "nbformat_minor": 5
}
