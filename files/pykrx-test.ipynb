{
 "cells": [
  {
   "cell_type": "code",
   "outputs": [
    {
     "name": "stdout",
     "output_type": "stream",
     "text": [
      "AJ네트웍스\n",
      "AK홀딩스\n",
      "BGF\n",
      "BGF리테일\n",
      "BNK금융지주\n"
     ]
    }
   ],
   "source": [
    "from pykrx import stock\n",
    "\n",
    "ticker_list = stock.get_market_ticker_list(date = '20250516')\n",
    "\n",
    "for idx, ticker in enumerate(ticker_list):\n",
    "    ticker_name = stock.get_market_ticker_name(ticker)\n",
    "    print(ticker_name)\n",
    "    if idx >= 4:\n",
    "        break"
   ],
   "metadata": {
    "collapsed": false,
    "ExecuteTime": {
     "end_time": "2025-05-18T11:04:27.980037Z",
     "start_time": "2025-05-18T11:04:27.802417Z"
    }
   },
   "id": "21ba74c93c962d36",
   "execution_count": 8
  },
  {
   "cell_type": "code",
   "outputs": [
    {
     "name": "stdout",
     "output_type": "stream",
     "text": [
      "            시가      고가     저가     종가      거래량         거래대금        등락률\n",
      "티커                                                                   \n",
      "095570    3720    3740   3660   3670   221808    816004486  -1.340000\n",
      "006840   10660   10780  10550  10630     4299     45636030  -0.470000\n",
      "027410    3640    3710   3625   3685   259723    955790830   1.380000\n",
      "282330  100600  100800  99300  99500    55949   5581469700  -1.000000\n",
      "138930   10500   10580  10440  10500   586210   6161365653   0.190000\n",
      "...        ...     ...    ...    ...      ...          ...        ...\n",
      "079980    3070    3080   3020   3030    82217    250369334  -1.300000\n",
      "005010    4900    4910   4720   4730   444755   2141136557  -2.070000\n",
      "000540    3655    4320   3610   3900  8304911  33657860301  11.270000\n",
      "000545    8010   10040   7700  10040   832976   7794892430  29.879999\n",
      "003280    1591    1620   1577   1605   871909   1389223001   0.880000\n",
      "\n",
      "[962 rows x 7 columns]\n"
     ]
    }
   ],
   "source": [
    "rslt_ohlcv_df = stock.get_market_ohlcv('20250516')\n",
    "print(rslt_ohlcv_df)"
   ],
   "metadata": {
    "collapsed": false,
    "ExecuteTime": {
     "end_time": "2025-05-18T11:04:28.731351Z",
     "start_time": "2025-05-18T11:04:28.571751Z"
    }
   },
   "id": "9c62fa4086d52581",
   "execution_count": 9
  },
  {
   "cell_type": "code",
   "outputs": [
    {
     "name": "stdout",
     "output_type": "stream",
     "text": [
      "          BPS    PER   PBR    EPS   DIV   DPS\n",
      "티커                                           \n",
      "095570   9902   7.57  0.37    485  7.36   270\n",
      "006840  40295   0.00  0.26      0  3.76   400\n",
      "027410  18202   3.83  0.20    963  3.53   130\n",
      "282330  68546   8.80  1.45  11301  4.12  4100\n",
      "138930  33604   4.83  0.31   2174  6.19   650\n",
      "...       ...    ...   ...    ...   ...   ...\n",
      "079980   7140   0.00  0.42      0  0.00     0\n",
      "005010  19927  11.91  0.24    397  3.17   150\n",
      "000540  11857   2.67  0.33   1459  0.00     0\n",
      "000545      0   0.00  0.00      0  0.00     0\n",
      "003280    950   9.73  1.69    165  0.00     0\n",
      "\n",
      "[932 rows x 6 columns]\n"
     ]
    }
   ],
   "source": [
    "rslt_fund_df = stock.get_market_fundamental('20250516')\n",
    "print(rslt_fund_df)"
   ],
   "metadata": {
    "collapsed": false,
    "ExecuteTime": {
     "end_time": "2025-05-18T11:05:11.791142Z",
     "start_time": "2025-05-18T11:05:11.296981Z"
    }
   },
   "id": "98aaec4e78144e32",
   "execution_count": 10
  },
  {
   "cell_type": "code",
   "outputs": [
    {
     "data": {
      "text/plain": "            시가      고가     저가     종가      거래량         거래대금        등락률    BPS  \\\n티커                                                                             \n095570    3720    3740   3660   3670   221808    816004486  -1.340000   9902   \n006840   10660   10780  10550  10630     4299     45636030  -0.470000  40295   \n027410    3640    3710   3625   3685   259723    955790830   1.380000  18202   \n282330  100600  100800  99300  99500    55949   5581469700  -1.000000  68546   \n138930   10500   10580  10440  10500   586210   6161365653   0.190000  33604   \n...        ...     ...    ...    ...      ...          ...        ...    ...   \n079980    3070    3080   3020   3030    82217    250369334  -1.300000   7140   \n005010    4900    4910   4720   4730   444755   2141136557  -2.070000  19927   \n000540    3655    4320   3610   3900  8304911  33657860301  11.270000  11857   \n000545    8010   10040   7700  10040   832976   7794892430  29.879999      0   \n003280    1591    1620   1577   1605   871909   1389223001   0.880000    950   \n\n          PER   PBR    EPS   DIV   DPS  \n티커                                      \n095570   7.57  0.37    485  7.36   270  \n006840   0.00  0.26      0  3.76   400  \n027410   3.83  0.20    963  3.53   130  \n282330   8.80  1.45  11301  4.12  4100  \n138930   4.83  0.31   2174  6.19   650  \n...       ...   ...    ...   ...   ...  \n079980   0.00  0.42      0  0.00     0  \n005010  11.91  0.24    397  3.17   150  \n000540   2.67  0.33   1459  0.00     0  \n000545   0.00  0.00      0  0.00     0  \n003280   9.73  1.69    165  0.00     0  \n\n[932 rows x 13 columns]",
      "text/html": "<div>\n<style scoped>\n    .dataframe tbody tr th:only-of-type {\n        vertical-align: middle;\n    }\n\n    .dataframe tbody tr th {\n        vertical-align: top;\n    }\n\n    .dataframe thead th {\n        text-align: right;\n    }\n</style>\n<table border=\"1\" class=\"dataframe\">\n  <thead>\n    <tr style=\"text-align: right;\">\n      <th></th>\n      <th>시가</th>\n      <th>고가</th>\n      <th>저가</th>\n      <th>종가</th>\n      <th>거래량</th>\n      <th>거래대금</th>\n      <th>등락률</th>\n      <th>BPS</th>\n      <th>PER</th>\n      <th>PBR</th>\n      <th>EPS</th>\n      <th>DIV</th>\n      <th>DPS</th>\n    </tr>\n    <tr>\n      <th>티커</th>\n      <th></th>\n      <th></th>\n      <th></th>\n      <th></th>\n      <th></th>\n      <th></th>\n      <th></th>\n      <th></th>\n      <th></th>\n      <th></th>\n      <th></th>\n      <th></th>\n      <th></th>\n    </tr>\n  </thead>\n  <tbody>\n    <tr>\n      <th>095570</th>\n      <td>3720</td>\n      <td>3740</td>\n      <td>3660</td>\n      <td>3670</td>\n      <td>221808</td>\n      <td>816004486</td>\n      <td>-1.340000</td>\n      <td>9902</td>\n      <td>7.57</td>\n      <td>0.37</td>\n      <td>485</td>\n      <td>7.36</td>\n      <td>270</td>\n    </tr>\n    <tr>\n      <th>006840</th>\n      <td>10660</td>\n      <td>10780</td>\n      <td>10550</td>\n      <td>10630</td>\n      <td>4299</td>\n      <td>45636030</td>\n      <td>-0.470000</td>\n      <td>40295</td>\n      <td>0.00</td>\n      <td>0.26</td>\n      <td>0</td>\n      <td>3.76</td>\n      <td>400</td>\n    </tr>\n    <tr>\n      <th>027410</th>\n      <td>3640</td>\n      <td>3710</td>\n      <td>3625</td>\n      <td>3685</td>\n      <td>259723</td>\n      <td>955790830</td>\n      <td>1.380000</td>\n      <td>18202</td>\n      <td>3.83</td>\n      <td>0.20</td>\n      <td>963</td>\n      <td>3.53</td>\n      <td>130</td>\n    </tr>\n    <tr>\n      <th>282330</th>\n      <td>100600</td>\n      <td>100800</td>\n      <td>99300</td>\n      <td>99500</td>\n      <td>55949</td>\n      <td>5581469700</td>\n      <td>-1.000000</td>\n      <td>68546</td>\n      <td>8.80</td>\n      <td>1.45</td>\n      <td>11301</td>\n      <td>4.12</td>\n      <td>4100</td>\n    </tr>\n    <tr>\n      <th>138930</th>\n      <td>10500</td>\n      <td>10580</td>\n      <td>10440</td>\n      <td>10500</td>\n      <td>586210</td>\n      <td>6161365653</td>\n      <td>0.190000</td>\n      <td>33604</td>\n      <td>4.83</td>\n      <td>0.31</td>\n      <td>2174</td>\n      <td>6.19</td>\n      <td>650</td>\n    </tr>\n    <tr>\n      <th>...</th>\n      <td>...</td>\n      <td>...</td>\n      <td>...</td>\n      <td>...</td>\n      <td>...</td>\n      <td>...</td>\n      <td>...</td>\n      <td>...</td>\n      <td>...</td>\n      <td>...</td>\n      <td>...</td>\n      <td>...</td>\n      <td>...</td>\n    </tr>\n    <tr>\n      <th>079980</th>\n      <td>3070</td>\n      <td>3080</td>\n      <td>3020</td>\n      <td>3030</td>\n      <td>82217</td>\n      <td>250369334</td>\n      <td>-1.300000</td>\n      <td>7140</td>\n      <td>0.00</td>\n      <td>0.42</td>\n      <td>0</td>\n      <td>0.00</td>\n      <td>0</td>\n    </tr>\n    <tr>\n      <th>005010</th>\n      <td>4900</td>\n      <td>4910</td>\n      <td>4720</td>\n      <td>4730</td>\n      <td>444755</td>\n      <td>2141136557</td>\n      <td>-2.070000</td>\n      <td>19927</td>\n      <td>11.91</td>\n      <td>0.24</td>\n      <td>397</td>\n      <td>3.17</td>\n      <td>150</td>\n    </tr>\n    <tr>\n      <th>000540</th>\n      <td>3655</td>\n      <td>4320</td>\n      <td>3610</td>\n      <td>3900</td>\n      <td>8304911</td>\n      <td>33657860301</td>\n      <td>11.270000</td>\n      <td>11857</td>\n      <td>2.67</td>\n      <td>0.33</td>\n      <td>1459</td>\n      <td>0.00</td>\n      <td>0</td>\n    </tr>\n    <tr>\n      <th>000545</th>\n      <td>8010</td>\n      <td>10040</td>\n      <td>7700</td>\n      <td>10040</td>\n      <td>832976</td>\n      <td>7794892430</td>\n      <td>29.879999</td>\n      <td>0</td>\n      <td>0.00</td>\n      <td>0.00</td>\n      <td>0</td>\n      <td>0.00</td>\n      <td>0</td>\n    </tr>\n    <tr>\n      <th>003280</th>\n      <td>1591</td>\n      <td>1620</td>\n      <td>1577</td>\n      <td>1605</td>\n      <td>871909</td>\n      <td>1389223001</td>\n      <td>0.880000</td>\n      <td>950</td>\n      <td>9.73</td>\n      <td>1.69</td>\n      <td>165</td>\n      <td>0.00</td>\n      <td>0</td>\n    </tr>\n  </tbody>\n</table>\n<p>932 rows × 13 columns</p>\n</div>"
     },
     "execution_count": 15,
     "metadata": {},
     "output_type": "execute_result"
    }
   ],
   "source": [
    "rslt_tot_df = rslt_ohlcv_df.join(rslt_fund_df, how='inner')\n",
    "rslt_tot_df"
   ],
   "metadata": {
    "collapsed": false,
    "ExecuteTime": {
     "end_time": "2025-05-18T11:07:46.184415Z",
     "start_time": "2025-05-18T11:07:46.170923Z"
    }
   },
   "id": "42cf9a8d1acd57fe",
   "execution_count": 15
  },
  {
   "cell_type": "code",
   "outputs": [
    {
     "name": "stdout",
     "output_type": "stream",
     "text": [
      "         티커       시가       고가       저가       종가       거래량          거래대금  \\\n",
      "0    069640     1145     1383     1128     1383    857240    1163661662   \n",
      "1    000545     8010    10040     7700    10040    832976    7794892430   \n",
      "2    003230  1121000  1233000  1110000  1180000    241397  285615900000   \n",
      "3    322000    41550    50500    41150    46500   2783559  128293836375   \n",
      "4    000157   333000   406500   333000   377500     20363    7499688000   \n",
      "..      ...      ...      ...      ...      ...       ...           ...   \n",
      "927  004910     5970     6020     5490     5700    411354    2354456665   \n",
      "928  017810    13790    13800    12720    12930    667293    8676503310   \n",
      "929  100220     6360     6430     5540     5580   1529155    8955851185   \n",
      "930  007120     1250     1250     1079     1081    550058     616323242   \n",
      "931  012600      195      235      190      198  12211203    2500071426   \n",
      "\n",
      "           등락률     BPS      PER    PBR    EPS   DIV   DPS  \n",
      "0    29.980000    1494     0.00   0.93      0  0.00     0  \n",
      "1    29.879999       0     0.00   0.00      0  0.00     0  \n",
      "2    19.070000  109524    32.36  10.77  36468  0.28  3300  \n",
      "3    15.240000   33007  4650.00   1.41     10  0.00     0  \n",
      "4    13.700000       0     0.00   0.00      0  0.53  2000  \n",
      "..         ...     ...      ...    ...    ...   ...   ...  \n",
      "927 -10.660000   18535     3.64   0.31   1567  3.51   200  \n",
      "928 -10.890000    8237    20.30   1.57    637  0.79   102  \n",
      "929 -13.350000   14504     0.00   0.38      0  0.00     0  \n",
      "930 -13.520000    1866     0.00   0.58      0  0.00     0  \n",
      "931 -92.050003    1058     6.83   0.19     29  0.00     0  \n",
      "\n",
      "[932 rows x 14 columns]\n"
     ]
    }
   ],
   "source": [
    "rslt_tot_df = rslt_tot_df.sort_values(by=['등락률'], ascending=False)\n",
    "rslt_tot_df.reset_index(inplace=True)\n",
    "print(rslt_tot_df)"
   ],
   "metadata": {
    "collapsed": false,
    "ExecuteTime": {
     "end_time": "2025-05-18T11:08:05.585925Z",
     "start_time": "2025-05-18T11:08:05.581270Z"
    }
   },
   "id": "dda15e0343b1b4ff",
   "execution_count": 17
  },
  {
   "cell_type": "code",
   "outputs": [
    {
     "name": "stdout",
     "output_type": "stream",
     "text": [
      "\n",
      "    오늘 KOSPI에서 29.98%로 상승으로 마감한 한세엠케이에 대한 정보야. 한세엠케이에 대한 회사 소개를 리포트로 만들어줘. 그리고 아래 정보들도 포함해서 리포트로 만들어줘.\n",
      "    등락률 : 29.98\n",
      "    시가 : 1145\n",
      "    고가 : 1383\n",
      "    저가 : 1128\n",
      "    종가 : 1383\n",
      "    거래량 : 857240\n",
      "    BPS : 1494\n",
      "    PER : 0.0\n",
      "    PBR : 0.93\n",
      "    EPS : 0\n",
      "    DIV : 0.0\n",
      "    DPS : 0\n",
      "    \n",
      "\n",
      "    오늘 KOSPI에서 29.88%로 상승으로 마감한 흥국화재우에 대한 정보야. 흥국화재우에 대한 회사 소개를 리포트로 만들어줘. 그리고 아래 정보들도 포함해서 리포트로 만들어줘.\n",
      "    등락률 : 29.88\n",
      "    시가 : 8010\n",
      "    고가 : 10040\n",
      "    저가 : 7700\n",
      "    종가 : 10040\n",
      "    거래량 : 832976\n",
      "    BPS : 0\n",
      "    PER : 0.0\n",
      "    PBR : 0.0\n",
      "    EPS : 0\n",
      "    DIV : 0.0\n",
      "    DPS : 0\n",
      "    \n",
      "\n",
      "    오늘 KOSPI에서 19.07%로 상승으로 마감한 삼양식품에 대한 정보야. 삼양식품에 대한 회사 소개를 리포트로 만들어줘. 그리고 아래 정보들도 포함해서 리포트로 만들어줘.\n",
      "    등락률 : 19.07\n",
      "    시가 : 1121000\n",
      "    고가 : 1233000\n",
      "    저가 : 1110000\n",
      "    종가 : 1180000\n",
      "    거래량 : 241397\n",
      "    BPS : 109524\n",
      "    PER : 32.36\n",
      "    PBR : 10.77\n",
      "    EPS : 36468\n",
      "    DIV : 0.28\n",
      "    DPS : 3300\n",
      "    \n",
      "\n",
      "    오늘 KOSPI에서 15.24%로 상승으로 마감한 HD현대에너지솔루션에 대한 정보야. HD현대에너지솔루션에 대한 회사 소개를 리포트로 만들어줘. 그리고 아래 정보들도 포함해서 리포트로 만들어줘.\n",
      "    등락률 : 15.24\n",
      "    시가 : 41550\n",
      "    고가 : 50500\n",
      "    저가 : 41150\n",
      "    종가 : 46500\n",
      "    거래량 : 2783559\n",
      "    BPS : 33007\n",
      "    PER : 4650.0\n",
      "    PBR : 1.41\n",
      "    EPS : 10\n",
      "    DIV : 0.0\n",
      "    DPS : 0\n",
      "    \n",
      "\n",
      "    오늘 KOSPI에서 13.7%로 상승으로 마감한 두산2우B에 대한 정보야. 두산2우B에 대한 회사 소개를 리포트로 만들어줘. 그리고 아래 정보들도 포함해서 리포트로 만들어줘.\n",
      "    등락률 : 13.7\n",
      "    시가 : 333000\n",
      "    고가 : 406500\n",
      "    저가 : 333000\n",
      "    종가 : 377500\n",
      "    거래량 : 20363\n",
      "    BPS : 0\n",
      "    PER : 0.0\n",
      "    PBR : 0.0\n",
      "    EPS : 0\n",
      "    DIV : 0.53\n",
      "    DPS : 2000\n",
      "    \n"
     ]
    }
   ],
   "source": [
    "for idx, row in rslt_tot_df.iterrows():\n",
    "    ticker_name = stock.get_market_ticker_name(row['티커'])\n",
    "    fluc_rate = row['등락률']\n",
    "    open_value = row['시가']\n",
    "    high_value = row['고가']\n",
    "    low_value = row['저가']\n",
    "    end_value = row['종가']\n",
    "    volume = row['거래량']\n",
    "    bps = row['BPS']\n",
    "    per = row['PER']\n",
    "    pbr = row['PBR']\n",
    "    eps = row['EPS']\n",
    "    div = row['DIV']\n",
    "    dps = row['DPS']\n",
    "    chatgpt_prompt = f'''\n",
    "    오늘 KOSPI에서 {round(fluc_rate, 2)}%로 상승으로 마감한 {ticker_name}에 대한 정보야. {ticker_name}에 대한 회사 소개를 리포트로 만들어줘. 그리고 아래 정보들도 포함해서 리포트로 만들어줘.\n",
    "    등락률 : {round(fluc_rate, 2)}\n",
    "    시가 : {open_value}\n",
    "    고가 : {high_value}\n",
    "    저가 : {low_value}\n",
    "    종가 : {end_value}\n",
    "    거래량 : {volume}\n",
    "    BPS : {bps}\n",
    "    PER : {per}\n",
    "    PBR : {pbr}\n",
    "    EPS : {eps}\n",
    "    DIV : {div}\n",
    "    DPS : {dps}\n",
    "    '''\n",
    "    # print(ticker_name,  fluc_rate)\n",
    "    print(chatgpt_prompt)\n",
    "    if idx >= 4:\n",
    "        break"
   ],
   "metadata": {
    "collapsed": false,
    "ExecuteTime": {
     "end_time": "2025-05-18T11:14:35.942172Z",
     "start_time": "2025-05-18T11:14:35.938980Z"
    }
   },
   "id": "65d14b6a5c368ab6",
   "execution_count": 21
  }
 ],
 "metadata": {
  "kernelspec": {
   "display_name": "Python 3",
   "language": "python",
   "name": "python3"
  },
  "language_info": {
   "codemirror_mode": {
    "name": "ipython",
    "version": 2
   },
   "file_extension": ".py",
   "mimetype": "text/x-python",
   "name": "python",
   "nbconvert_exporter": "python",
   "pygments_lexer": "ipython2",
   "version": "2.7.6"
  }
 },
 "nbformat": 4,
 "nbformat_minor": 5
}
